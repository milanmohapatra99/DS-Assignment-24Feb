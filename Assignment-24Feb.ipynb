{
 "cells": [
  {
   "cell_type": "markdown",
   "id": "8144dff5-da20-4d35-b474-19f2e0dd7af4",
   "metadata": {},
   "source": [
    "Q.1. List any five functions of the pandas library with execution."
   ]
  },
  {
   "cell_type": "markdown",
   "id": "35984d09-d27a-4ead-8056-b973504aa2ad",
   "metadata": {},
   "source": [
    "Ans : 1. read_csv(): read_csv() function helps read a comma-separated values (csv) file into a Pandas DataFrame. \n",
    "\n",
    "2. head() : It shows First 5 rows in the Dataframe.\n",
    "\n",
    "3. describe() : describe() is used to generate descriptive statistics of the data in a Pandas DataFrame or Series.\n",
    "\n",
    "4. to_datetime(): to_datetime() converts a Python object to datetime format.\n",
    "\n",
    "5. value_counts(): value_counts() returns a Pandas Series containing the counts of unique values."
   ]
  },
  {
   "cell_type": "markdown",
   "id": "0064a928-7356-46c7-b295-e801c819f25e",
   "metadata": {},
   "source": [
    "Q2. Given a Pandas DataFrame df with columns 'A', 'B', and 'C', write a Python function to re-index the DataFrame with a new index that starts from 1 and increments by 2 for each row."
   ]
  },
  {
   "cell_type": "code",
   "execution_count": 2,
   "id": "d1592ab1-685f-4ca1-bf7d-e43a61a279f6",
   "metadata": {},
   "outputs": [],
   "source": [
    "import pandas as pd\n",
    "df = ['A','B','C']\n",
    "def reindex_df(df):\n",
    "    new_index = pd.RangeIndex(start=1, stop=len(df)*2 ,step=2)\n",
    "    return df.reindex(new_index)"
   ]
  },
  {
   "cell_type": "markdown",
   "id": "5a5b313b-de54-4df8-b4fd-c3a4460b4bd9",
   "metadata": {},
   "source": [
    "Q3. You have a Pandas DataFrame df with a column named 'Values'. Write a Python function that iterates over the DataFrame and calculates the sum of the first three values in the 'Values' column. The function should print the sum to the console.\n",
    "\n",
    "\n",
    "For example, if the 'Values' column of df contains the values [10, 20, 30, 40, 50], your function should calculate and print the sum of the first three values, which is 60."
   ]
  },
  {
   "cell_type": "code",
   "execution_count": 9,
   "id": "1f395d1a-9255-4bb2-bef6-1e46eb76c82e",
   "metadata": {},
   "outputs": [
    {
     "name": "stdout",
     "output_type": "stream",
     "text": [
      "Sum of the first three values in 'Values' column:  60\n"
     ]
    }
   ],
   "source": [
    "import pandas as pd\n",
    "\n",
    "def sum_first_three_val(df):\n",
    "    sum_values = 0\n",
    "    for i in range(3):\n",
    "        sum_values += df['Values'][i]\n",
    "    print(f\"Sum of the first three values in 'Values' column: \", sum_values)\n",
    "\n",
    "df = pd.DataFrame()\n",
    "df['Values']= [10, 20, 30, 40, 50]\n",
    "sum_first_three_val(df)"
   ]
  },
  {
   "cell_type": "markdown",
   "id": "751291f4-3114-48c0-b4bf-d2ee688a8a9a",
   "metadata": {},
   "source": [
    "Q4. Given a Pandas DataFrame df with a column 'Text', write a Python function to create a new column 'Word_Count' that contains the number of words in each row of the 'Text' column."
   ]
  },
  {
   "cell_type": "code",
   "execution_count": 10,
   "id": "78eb438d-4374-4791-8c71-ac3777c10d74",
   "metadata": {},
   "outputs": [
    {
     "data": {
      "text/html": [
       "<div>\n",
       "<style scoped>\n",
       "    .dataframe tbody tr th:only-of-type {\n",
       "        vertical-align: middle;\n",
       "    }\n",
       "\n",
       "    .dataframe tbody tr th {\n",
       "        vertical-align: top;\n",
       "    }\n",
       "\n",
       "    .dataframe thead th {\n",
       "        text-align: right;\n",
       "    }\n",
       "</style>\n",
       "<table border=\"1\" class=\"dataframe\">\n",
       "  <thead>\n",
       "    <tr style=\"text-align: right;\">\n",
       "      <th></th>\n",
       "      <th>Text</th>\n",
       "      <th>Word_Count</th>\n",
       "    </tr>\n",
       "  </thead>\n",
       "  <tbody>\n",
       "  </tbody>\n",
       "</table>\n",
       "</div>"
      ],
      "text/plain": [
       "Empty DataFrame\n",
       "Columns: [Text, Word_Count]\n",
       "Index: []"
      ]
     },
     "execution_count": 10,
     "metadata": {},
     "output_type": "execute_result"
    }
   ],
   "source": [
    "import pandas as pd\n",
    "def NewCol(df):\n",
    "    df['Word_Count'] = []\n",
    "    return df\n",
    "df = pd.DataFrame()\n",
    "df['Text'] = []\n",
    "NewCol(df)"
   ]
  },
  {
   "cell_type": "markdown",
   "id": "98b415f3-d029-47d1-8b10-3d3cc1c370d3",
   "metadata": {},
   "source": [
    "Q5. How are DataFrame.size() and DataFrame.shape() different?"
   ]
  },
  {
   "cell_type": "markdown",
   "id": "2179b7a6-ec59-46aa-9db2-17b7c09bf177",
   "metadata": {},
   "source": [
    "Ans: Pandas DataFrame.size(), DataFrame.shape() are used to return size, shape  of data frames and series.\n",
    "\n",
    "shape(): shape is the number of rows and columns of the DataFrame.\n",
    "\n",
    "Syntax: DataFrame.shape\n",
    "\n",
    "For example, if a DataFrame has 7 rows and 5 columns,then  df.shape will return (7, 5).\n",
    "\n",
    "The size property is used to get an int representing the number of elements in the DataFrame.It returns the number of rows * the number of columns.\n",
    "\n",
    "Syntax: DataFrame.size\n",
    "\n",
    "For example, if a DataFrame has 7 rows and 5 columns, df.size will return 35.\n"
   ]
  },
  {
   "cell_type": "markdown",
   "id": "8c96d9bf-2567-4628-9bd1-a20462995403",
   "metadata": {},
   "source": [
    "Q6. Which function of pandas do we use to read an excel file?"
   ]
  },
  {
   "cell_type": "markdown",
   "id": "d0120314-290c-4465-adc6-4eb0012948bc",
   "metadata": {},
   "source": [
    "Ans : Pandas read_excel() function is used for reading the excel files."
   ]
  },
  {
   "cell_type": "markdown",
   "id": "81e59bc6-101e-400a-8466-f522e394012c",
   "metadata": {},
   "source": [
    "Q7. You have a Pandas DataFrame df that contains a column named 'Email' that contains email addresses in the format 'username@domain.com'. Write a Python function that creates a new column 'Username' in df that contains only the username part of each email address."
   ]
  },
  {
   "cell_type": "code",
   "execution_count": 12,
   "id": "876e6321-716f-4b76-918d-1a5a28aaf227",
   "metadata": {},
   "outputs": [
    {
     "data": {
      "text/html": [
       "<div>\n",
       "<style scoped>\n",
       "    .dataframe tbody tr th:only-of-type {\n",
       "        vertical-align: middle;\n",
       "    }\n",
       "\n",
       "    .dataframe tbody tr th {\n",
       "        vertical-align: top;\n",
       "    }\n",
       "\n",
       "    .dataframe thead th {\n",
       "        text-align: right;\n",
       "    }\n",
       "</style>\n",
       "<table border=\"1\" class=\"dataframe\">\n",
       "  <thead>\n",
       "    <tr style=\"text-align: right;\">\n",
       "      <th></th>\n",
       "      <th>Email</th>\n",
       "      <th>Username</th>\n",
       "    </tr>\n",
       "  </thead>\n",
       "  <tbody>\n",
       "    <tr>\n",
       "      <th>0</th>\n",
       "      <td>username@domain.com</td>\n",
       "      <td>username</td>\n",
       "    </tr>\n",
       "    <tr>\n",
       "      <th>1</th>\n",
       "      <td>alice@gmail.com</td>\n",
       "      <td>alice</td>\n",
       "    </tr>\n",
       "    <tr>\n",
       "      <th>2</th>\n",
       "      <td>robert12@yahoomail.in</td>\n",
       "      <td>robert12</td>\n",
       "    </tr>\n",
       "  </tbody>\n",
       "</table>\n",
       "</div>"
      ],
      "text/plain": [
       "                   Email  Username\n",
       "0    username@domain.com  username\n",
       "1        alice@gmail.com     alice\n",
       "2  robert12@yahoomail.in  robert12"
      ]
     },
     "execution_count": 12,
     "metadata": {},
     "output_type": "execute_result"
    }
   ],
   "source": [
    "import pandas as pd\n",
    "def username_splt(df):\n",
    "    df['Username'] = df['Email'].str.split('@').str[0]\n",
    "    return df\n",
    "\n",
    "df = pd.DataFrame()\n",
    "df['Email'] = ['username@domain.com', 'alice@gmail.com','robert12@yahoomail.in']\n",
    "username_splt(df)"
   ]
  },
  {
   "cell_type": "markdown",
   "id": "3d320846-1dd1-43ac-8fa1-c30d6318b9ed",
   "metadata": {},
   "source": [
    "Q8. You have a Pandas DataFrame df with columns 'A', 'B', and 'C'. Write a Python function that selects all rows where the value in column 'A' is greater than 5 and the value in column 'B' is less than 10. The function should return a new DataFrame that contains only the selected rows.\n",
    "\n",
    "For example, if df contains the following values:\n",
    "  A B C\n",
    "0 3 5 1\n",
    "1 8 2 7\n",
    "2 6 9 4\n",
    "3 2 3 5\n",
    "4 9 1 2\n",
    "Your function should select the following rows:\n",
    "\n",
    "  A B C\n",
    "1 8 2 7\n",
    "4 9 1 2"
   ]
  },
  {
   "cell_type": "code",
   "execution_count": 13,
   "id": "68c8c541-f530-443e-a7eb-6873f3bded27",
   "metadata": {},
   "outputs": [
    {
     "name": "stdout",
     "output_type": "stream",
     "text": [
      "   A  B  C\n",
      "1  8  2  7\n",
      "2  6  9  4\n",
      "4  9  1  2\n"
     ]
    }
   ],
   "source": [
    "#importing pandas library\n",
    "import pandas as pd\n",
    "#creating function\n",
    "def selects_rows(df):\n",
    "    selected_rows = df[(df['A'] > 5) & (df['B'] < 10)]\n",
    "    return selected_rows\n",
    "#creating main function\n",
    "def main():\n",
    "    # create a sample DataFrame\n",
    "    data = {'A': [3, 8, 6, 2, 9], 'B': [5, 2, 9, 3, 1], 'C': [1, 7, 4, 5, 2]}\n",
    "    df = pd.DataFrame(data)\n",
    "\n",
    "    # select rows where A > 5 and B < 10\n",
    "    selected_df = selects_rows(df)\n",
    "\n",
    "    # print the selected rows\n",
    "    print(selected_df)\n",
    "\n",
    "if __name__ == '__main__':\n",
    "    main()"
   ]
  },
  {
   "cell_type": "markdown",
   "id": "3c54828f-54ea-4c8d-a303-545ca92947d1",
   "metadata": {},
   "source": [
    "Q9. Given a Pandas DataFrame df with a column 'Values', write a Python function to calculate the mean, median, and standard deviation of the values in the 'Values' column."
   ]
  },
  {
   "cell_type": "code",
   "execution_count": 17,
   "id": "1021607e-d501-4cc6-a0e2-7fd6930e199e",
   "metadata": {},
   "outputs": [
    {
     "name": "stdout",
     "output_type": "stream",
     "text": [
      "Mean: 50.0, Median: 50.0, Standard deviation: 27.386127875258307\n"
     ]
    }
   ],
   "source": [
    "import pandas as pd\n",
    "\n",
    "def calculate_stats(df):\n",
    "    mean = df['Values'].mean()\n",
    "    median = df['Values'].median()\n",
    "    std = df['Values'].std()\n",
    "    return mean, median, std\n",
    "df = pd.DataFrame()\n",
    "df['Values']= [10, 20, 30, 40, 50, 60, 70, 80, 90]\n",
    "result = calculate_stats(df)\n",
    "print(\"Mean:\",str(mean)+ \", Median:\",str(median)+ \", Standard deviation:\",str(std))"
   ]
  },
  {
   "cell_type": "markdown",
   "id": "592466d7-9bae-4ef7-87b1-34c7781c994f",
   "metadata": {},
   "source": [
    "Q10. Given a Pandas DataFrame df with a column 'Sales' and a column 'Date', write a Python function to create a new column 'MovingAverage' that contains the moving average of the sales for the past 7 days for each row in the DataFrame. The moving average should be calculated using a window of size 7 and should include the current day."
   ]
  },
  {
   "cell_type": "code",
   "execution_count": 20,
   "id": "58e09968-8d0f-4774-8c73-77f79f7bae9f",
   "metadata": {},
   "outputs": [
    {
     "name": "stdout",
     "output_type": "stream",
     "text": [
      "15:22:43 on Friday, March the 03th, 2023\n"
     ]
    }
   ],
   "source": [
    "import pandas as pd\n",
    "import datetime\n",
    "n = datetime.datetime.now()\n",
    "def add_moving_average(df):\n",
    "    # Create a rolling window of size 7 for the 'Sales' column\n",
    "    rolling_sales = df['Sales'].rolling(window=7)\n",
    "\n",
    "    # Calculate the moving average for each window\n",
    "    moving_average = rolling_sales.mean()\n",
    "\n",
    "    # Add the 'MovingAverage' column to the DataFrame\n",
    "    df['MovingAverage'] = moving_average\n",
    "\n",
    "    return df\n",
    "print(n.strftime('%H:%M:%S on %A, %B the %dth, %Y'))"
   ]
  },
  {
   "cell_type": "markdown",
   "id": "01d1407f-75b8-4d50-8be9-8cf23dc367d8",
   "metadata": {},
   "source": [
    "Q11. You have a Pandas DataFrame df with a column 'Date'. Write a Python function that creates a new column 'Weekday' in the DataFrame. The 'Weekday' column should contain the weekday name (e.g. Monday, Tuesday) corresponding to each date in the 'Date' column.\n",
    "For example, if df contains the following values:\n",
    "Date\n",
    "0 2023-01-01\n",
    "1 2023-01-02\n",
    "2 2023-01-03\n",
    "3 2023-01-04\n",
    "4 2023-01-05\n",
    "Your function should create the following DataFrame:\n",
    "Date Weekday\n",
    "0 2023-01-01 Sunday\n",
    "1 2023-01-02 Monday\n",
    "2 2023-01-03 Tuesday\n",
    "3 2023-01-04 Wednesday\n",
    "4 2023-01-05 Thursday\n",
    "The function should return the modified DataFrame.\n"
   ]
  },
  {
   "cell_type": "code",
   "execution_count": 21,
   "id": "8307c989-f878-4d5b-bc37-ba20100a4ab2",
   "metadata": {},
   "outputs": [
    {
     "name": "stdout",
     "output_type": "stream",
     "text": [
      "        Date    Weekday\n",
      "0 2023-01-01     Sunday\n",
      "1 2023-01-02     Monday\n",
      "2 2023-01-03    Tuesday\n",
      "3 2023-01-04  Wednesday\n",
      "4 2023-01-05   Thursday\n"
     ]
    }
   ],
   "source": [
    "import pandas as pd\n",
    "\n",
    "def add_weekday(df):\n",
    "    df['Date'] = pd.to_datetime(df['Date'])\n",
    "    df['Weekday'] = df['Date'].dt.day_name()\n",
    "    return df\n",
    "\n",
    "def main():\n",
    "    df = pd.DataFrame({'Date': ['2023-01-01', '2023-01-02', '2023-01-03', '2023-01-04', '2023-01-05']})\n",
    "    df = add_weekday(df)\n",
    "    print(df)\n",
    "\n",
    "if __name__ == '__main__':\n",
    "    main()"
   ]
  },
  {
   "cell_type": "markdown",
   "id": "d4e3dbe4-d2a7-4bf9-bde6-77cb2752094f",
   "metadata": {},
   "source": [
    "Q12. Given a Pandas DataFrame df with a column 'Date' that contains timestamps, write a Python function to select all rows where the date is between '2023-01-01' and '2023-01-31'."
   ]
  },
  {
   "cell_type": "code",
   "execution_count": 22,
   "id": "31144e95-b149-4617-b36f-4dddf2bad9c8",
   "metadata": {},
   "outputs": [
    {
     "name": "stdout",
     "output_type": "stream",
     "text": [
      "Original DataFrame:\n",
      "         Date\n",
      "0  2022-12-31\n",
      "1  2023-01-01\n",
      "2  2023-01-15\n",
      "3  2023-01-31\n",
      "4  2023-02-15\n",
      "DataFrame with Given dates :\n",
      "        Date\n",
      "1 2023-01-01\n",
      "2 2023-01-15\n",
      "3 2023-01-31\n"
     ]
    }
   ],
   "source": [
    "import pandas as pd\n",
    "import datetime\n",
    "def select_dates(df):\n",
    "    df['Date'] = pd.to_datetime(df['Date'])\n",
    "    start_date = '2023-01-01'\n",
    "    end_date = '2023-01-31'\n",
    "    mask = (df['Date'] >= start_date) & (df['Date'] <= end_date)\n",
    "    return df.loc[mask]\n",
    "\n",
    "def main():\n",
    "    df = pd.DataFrame({'Date': ['2022-12-31', '2023-01-01', '2023-01-15', '2023-01-31', '2023-02-15']})\n",
    "    print(\"Original DataFrame:\")\n",
    "    print(df)\n",
    "    df = select_dates(df)\n",
    "    print(\"DataFrame with Given dates :\")\n",
    "    print(df)\n",
    "\n",
    "if __name__ == '__main__':\n",
    "    main()"
   ]
  },
  {
   "cell_type": "markdown",
   "id": "1a77a156-eaa6-448b-9d1f-537305268989",
   "metadata": {},
   "source": [
    "Q13. To use the basic functions of pandas, what is the first and foremost necessary library that needs to be imported?"
   ]
  },
  {
   "cell_type": "code",
   "execution_count": null,
   "id": "6651ff81-b274-4dd2-8e84-4ed0f9387f0f",
   "metadata": {},
   "outputs": [],
   "source": [
    "Ans: we have to import pandas library i.e\n",
    "\n",
    "import"
   ]
  }
 ],
 "metadata": {
  "kernelspec": {
   "display_name": "Python 3 (ipykernel)",
   "language": "python",
   "name": "python3"
  },
  "language_info": {
   "codemirror_mode": {
    "name": "ipython",
    "version": 3
   },
   "file_extension": ".py",
   "mimetype": "text/x-python",
   "name": "python",
   "nbconvert_exporter": "python",
   "pygments_lexer": "ipython3",
   "version": "3.10.6"
  }
 },
 "nbformat": 4,
 "nbformat_minor": 5
}
